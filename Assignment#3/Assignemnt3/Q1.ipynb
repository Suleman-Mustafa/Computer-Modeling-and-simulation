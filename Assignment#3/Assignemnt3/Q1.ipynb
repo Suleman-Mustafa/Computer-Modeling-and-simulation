{
 "cells": [
  {
   "cell_type": "code",
   "execution_count": 13,
   "id": "62d36aa3-14c3-4b94-bb74-e2beb97d72d2",
   "metadata": {},
   "outputs": [
    {
     "name": "stdout",
     "output_type": "stream",
     "text": [
      "monte carlo is 2.336221688603841.\n"
     ]
    }
   ],
   "source": [
    "\n",
    "import math\n",
    "from scipy import random\n",
    "import numpy as np\n",
    "\n",
    "a = 0\n",
    "b = 2 \n",
    "N = 1000\n",
    "\n",
    "ar = np.zeros(N)\n",
    "\n",
    "for i in range (len(ar)):\n",
    "    ar[i] = random.uniform(a,b)\n",
    "\n",
    "integral = 0.0\n",
    "\n",
    "def f(x):\n",
    "    return math.sqrt((math.cos(x) ** 2) + 1)\n",
    "\n",
    "for i in ar:\n",
    "    integral += f(i)\n",
    "    ans = (b-a)/float(N)*integral\n",
    "print (\"monte carlo is {}.\".format(ans))"
   ]
  },
  {
   "cell_type": "code",
   "execution_count": 15,
   "id": "e7661fad-6eb3-4b02-b04c-974582365558",
   "metadata": {},
   "outputs": [
    {
     "name": "stdout",
     "output_type": "stream",
     "text": [
      "monte carlo integration is 6.379186868283494.\n"
     ]
    }
   ],
   "source": [
    "\n",
    "import math\n",
    "from scipy import random\n",
    "import numpy as np\n",
    "\n",
    "a = 2\n",
    "b = 3 \n",
    "N = 1000\n",
    "\n",
    "ar = np.zeros(N)\n",
    "\n",
    "for i in range (len(ar)):\n",
    "    ar[i] = random.uniform(a,b)\n",
    "\n",
    "integral = 0.0\n",
    "def f(x):\n",
    "    return x**2\n",
    "\n",
    "for i in ar:\n",
    "    integral += f(i)\n",
    "    ans = (b-a)/float(N)*integral\n",
    "\n",
    "print (\"monte carlo integration is {}.\".format(ans))"
   ]
  },
  {
   "cell_type": "code",
   "execution_count": 11,
   "id": "e069b584-18ab-4c50-a5ba-95a60daae07c",
   "metadata": {},
   "outputs": [],
   "source": [
    "# importing the modules\n",
    "import math"
   ]
  },
  {
   "cell_type": "code",
   "execution_count": 17,
   "id": "4f9e0f7e-1ac5-4f69-aac6-3319e50ee05f",
   "metadata": {},
   "outputs": [
    {
     "name": "stdout",
     "output_type": "stream",
     "text": [
      "monte carlo integration is -0.09422831651616917.\n"
     ]
    }
   ],
   "source": [
    "from scipy import random\n",
    "import numpy as np\n",
    "\n",
    "a = 2\n",
    "b = 3 #\n",
    "N = 1000\n",
    "\n",
    "ar = np.zeros(N)\n",
    "\n",
    "for i in range (len(ar)):\n",
    "    ar[i] = random.uniform(a,b)\n",
    "\n",
    "integral = 0.0\n",
    "\n",
    "def f(x):\n",
    "    return math.sin(x ** 2)\n",
    "\n",
    "for i in ar:\n",
    "    integral += f(i)\n",
    "    ans = (b-a)/float(N)*integral\n",
    "\n",
    "print (\"monte carlo integration is {}.\".format(ans))"
   ]
  },
  {
   "cell_type": "code",
   "execution_count": null,
   "id": "e25b9efb-262f-4bc9-b4fd-9e49c30a79e8",
   "metadata": {},
   "outputs": [],
   "source": []
  },
  {
   "cell_type": "code",
   "execution_count": null,
   "id": "b7a823dd-126f-4561-99f0-dc4dd52f5f69",
   "metadata": {},
   "outputs": [],
   "source": []
  }
 ],
 "metadata": {
  "kernelspec": {
   "display_name": "Python 3 (ipykernel)",
   "language": "python",
   "name": "python3"
  },
  "language_info": {
   "codemirror_mode": {
    "name": "ipython",
    "version": 3
   },
   "file_extension": ".py",
   "mimetype": "text/x-python",
   "name": "python",
   "nbconvert_exporter": "python",
   "pygments_lexer": "ipython3",
   "version": "3.9.7"
  }
 },
 "nbformat": 4,
 "nbformat_minor": 5
}
