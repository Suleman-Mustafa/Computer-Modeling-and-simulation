{
 "cells": [
  {
   "cell_type": "code",
   "execution_count": 1,
   "id": "3b4e7836-eb0b-4b90-a2b4-a62d21dda804",
   "metadata": {},
   "outputs": [],
   "source": [
    "# !pip install textblob \n",
    "# !pip install scikit-learn\n",
    "# !pip install gensim\n",
    "# !pip install nltk\n",
    "# !pip install seaborn\n",
    "# !pip install matplotlib\n",
    "# !pip install skfeature-chappers"
   ]
  },
  {
   "cell_type": "code",
   "execution_count": null,
   "id": "fa36c459-0f85-440b-b95c-b1f66e7aa89e",
   "metadata": {},
   "outputs": [],
   "source": [
    "import pandas as pd\n",
    "import seaborn as sns\n",
    "\n",
    "import matplotlib.pyplot as plt\n",
    "%matplotlib inline\n",
    "\n",
    "from textblob import TextBlob \n",
    "import numpy as np\n",
    "import re\n",
    "import nltk\n",
    "nltk.download('stopwords')\n",
    "\n",
    "# from gensim.parsing.preprocessing import remove_stopwords\n",
    "from gensim.parsing.porter import PorterStemmer\n",
    "from gensim.utils import tokenize\n",
    "\n",
    "from nltk.corpus import stopwords\n",
    "stopwords = [word for word in stopwords.words('english')]\n",
    "\n",
    "\n",
    "from sklearn.model_selection import train_test_split\n",
    "import joblib\n",
    "from sklearn.feature_extraction.text import CountVectorizer\n",
    "from sklearn.naive_bayes import MultinomialNB\n",
    "\n",
    "from sklearn.svm import SVC\n",
    "from sklearn.ensemble import VotingClassifier\n",
    "from sklearn.metrics import classification_report, confusion_matrix, accuracy_score\n"
   ]
  },
  {
   "cell_type": "code",
   "execution_count": null,
   "id": "9ad2bb42-810e-4b9f-bc0b-5c32434e3cfb",
   "metadata": {},
   "outputs": [],
   "source": [
    "# stopwords"
   ]
  },
  {
   "cell_type": "code",
   "execution_count": null,
   "id": "12629d09-4f67-4ab5-ab68-fe3b8fde321a",
   "metadata": {},
   "outputs": [],
   "source": [
    "# url = \"Data/all_brands_export.csv\"\n",
    "# da=pd.read_csv(url)"
   ]
  },
  {
   "cell_type": "code",
   "execution_count": null,
   "id": "658f82ba-3a41-4b6d-82a2-2635f1710332",
   "metadata": {},
   "outputs": [],
   "source": [
    "# import pandas as pd\n",
    "# url = \"Data/all_brands.csv\"\n",
    "# db=pd.read_csv(url)"
   ]
  },
  {
   "cell_type": "code",
   "execution_count": null,
   "id": "ef980724-979e-4e39-a501-3024e73e8ffe",
   "metadata": {},
   "outputs": [],
   "source": [
    "# db"
   ]
  },
  {
   "cell_type": "code",
   "execution_count": null,
   "id": "27247ef7-4f94-4042-93d8-284b850f38b6",
   "metadata": {},
   "outputs": [],
   "source": [
    "# da"
   ]
  },
  {
   "cell_type": "code",
   "execution_count": null,
   "id": "4c77d95d-b948-4e0c-98f7-f3743af92816",
   "metadata": {},
   "outputs": [],
   "source": [
    "# da[\"review\"][0].split(',')[0]"
   ]
  },
  {
   "cell_type": "code",
   "execution_count": null,
   "id": "f1c8ed88-86ef-4843-80f1-2c31794b28a1",
   "metadata": {},
   "outputs": [],
   "source": [
    "url = \"Data/acer-phones_export.csv\"\n",
    "db=pd.read_csv(url,sep = ';')\n",
    "# txt=db[\"review\"][0].split('.')[0]\n",
    "# tokenize_sentence(txt)\n",
    "db\n"
   ]
  },
  {
   "cell_type": "code",
   "execution_count": null,
   "id": "ae9e28b5-da2c-4f42-99e0-97d82cb71396",
   "metadata": {},
   "outputs": [],
   "source": [
    "\n",
    "\n",
    "# reviews = np.array(da[\"review\"])\n",
    "reviews = np.array(db[\"review\"])\n",
    "myDict = {}\n",
    "list_ = []\n",
    "count = 0\n",
    "super_list = []\n",
    "for sent in reviews:\n",
    "\n",
    "    temp= []\n",
    "    try:\n",
    "        temp = list(sent.split(\",\"))\n",
    "        super_list.append(temp)\n",
    "\n",
    "    except:\n",
    "        super_list.append(None)\n"
   ]
  },
  {
   "cell_type": "code",
   "execution_count": null,
   "id": "e0c7dd07-8222-4e72-90ed-e9f9826bb12b",
   "metadata": {},
   "outputs": [],
   "source": [
    "def pre_process(sentence):  \n",
    "# print(type(stopwords))\n",
    "\n",
    "\n",
    "    # Remove all the special characters\n",
    "    processed_sentence = re.sub(r'\\W', ' ', str(sentence))\n",
    "\n",
    "    # remove all single characters\n",
    "    processed_sentence = re.sub(r'\\s+[a-zA-Z]\\s+', ' ', processed_sentence)\n",
    "\n",
    "    # Remove single characters from the start\n",
    "    processed_sentence= re.sub(r'\\^[a-zA-Z]\\s+', ' ', processed_sentence) \n",
    "\n",
    "    # Substituting multiple spaces with single space\n",
    "    processed_sentence= re.sub(r'\\s+', ' ', processed_sentence, flags=re.I)\n",
    "\n",
    "    # Removing prefixed 'b'\n",
    "    processed_sentence = re.sub(r'^b\\s+', '', processed_sentence)\n",
    "    \n",
    "   \n",
    "    return processed_sentence\n"
   ]
  },
  {
   "cell_type": "code",
   "execution_count": null,
   "id": "ca2258d5-0430-4b4a-b0aa-5b668a3c18f3",
   "metadata": {},
   "outputs": [],
   "source": [
    "def updated_sentence(sentence): \n",
    "    sentence = sentence.lower()\n",
    "    new = \" \"\n",
    "    p = PorterStemmer()\n",
    "    # print(\"before remove stopward : \",sentence)\n",
    "    processed = pre_process(sentence)\n",
    "    # print(\"processed : \" ,processed)\n",
    "    stemmed = p.stem(processed)\n",
    "    # print(stemmed)\n",
    "    tokens = tokenize(stemmed.strip())\n",
    "    lst=list(tokens)\n",
    "    lst2 = []\n",
    "    for i in lst:\n",
    "        #using nltk dic for stopwords\n",
    "        if  i not in stopwords :\n",
    "            lst2.append(i)\n",
    "    return (new.join(lst2))"
   ]
  },
  {
   "cell_type": "code",
   "execution_count": null,
   "id": "a6db8bd4-8c3e-4c8b-aad1-1427a5d70503",
   "metadata": {},
   "outputs": [],
   "source": [
    "def polarity_scaling(polarity):\n",
    "    # 0  nutral\n",
    "    if polarity  == 0:\n",
    "        return 0\n",
    "    # greater then 0  positive\n",
    "    elif polarity > 0:\n",
    "        return 1\n",
    "    else:\n",
    "        # less then 0  negative\n",
    "        return -1    "
   ]
  },
  {
   "cell_type": "code",
   "execution_count": 1494,
   "id": "c26f9974-f4a5-43ff-88e3-4f25e624fe36",
   "metadata": {},
   "outputs": [],
   "source": [
    "def reviews_list_polarity():\n",
    "    individual_review = []\n",
    "    for_reviews = []\n",
    "    for_polarity = []\n",
    "    updated_review_Dict = {}\n",
    "    super_list_2 = []\n",
    "#     print(super_list)\n",
    "    for remove_none_type in super_list:\n",
    "        if remove_none_type is not None:\n",
    "            super_list_2.append(remove_none_type)\n",
    "#             print(super_list_2)\n",
    "    for select_list in super_list_2:\n",
    "        for i in select_list:\n",
    "            news =i.strip()\n",
    "            new1=news.split(\".\")\n",
    "\n",
    "            lst_list = []\n",
    "            lst_list_2 = []\n",
    "\n",
    "\n",
    "            for j in new1:\n",
    "                j = updated_sentence(j)\n",
    "                temp =j.replace(\"\\r\\n\" ,\"\")\n",
    "                # print(temp)\n",
    "                pol = TextBlob(temp).sentiment.polarity\n",
    "                polarity=polarity_scaling(pol)\n",
    "                tup = (temp ,polarity)\n",
    "                lst_list.append(tup)\n",
    "            # print(lst[0])\n",
    "                # lst_list[:-1]\n",
    "            for remove_tuple in lst_list:\n",
    "                if remove_tuple != ('',0):\n",
    "                    lst_list_2.append(remove_tuple)\n",
    "#             print(lst_list_2[0][0])\n",
    "            if lst_list_2 != []:\n",
    "                for_reviews.append(lst_list_2[0][0])\n",
    "                for_polarity.append(lst_list_2[0][1])\n",
    "            \n",
    "            # individual_review.append(lst_list_2)\n",
    "    updated_review_Dict[\"reviews\"]=for_reviews\n",
    "    updated_review_Dict[\"polarity\"]=for_polarity\n",
    "    \n",
    "           \n",
    "            # print(lst_list)\n",
    "            # individual_review.append(lst_list)\n",
    "\n",
    "    # return updated_review_Dict[\"reviews\"],updated_review_Dict[\"polarity\"]\n",
    "    return updated_review_Dict\n",
    "    # return individual_review\n",
    "# reviews_list_polarity()"
   ]
  },
  {
   "cell_type": "code",
   "execution_count": 1495,
   "id": "18fb49be-3f93-4c1a-b50e-0f3e14d078fa",
   "metadata": {},
   "outputs": [],
   "source": [
    "data=pd.DataFrame(reviews_list_polarity())\n",
    "#spiting data for train data\n",
    "x = data['reviews']\n",
    "y = data['polarity']\n",
    "x, x_test, y, y_test = train_test_split(x,y, stratify=y, test_size=0.25, random_state=42)"
   ]
  },
  {
   "cell_type": "code",
   "execution_count": 1496,
   "id": "386dd56e-5ddf-4f16-afb6-fb18f6340bcd",
   "metadata": {},
   "outputs": [],
   "source": [
    "# Vectorize text reviews to numbers\n",
    "vec = CountVectorizer()\n",
    "x = vec.fit_transform(x).toarray()\n",
    "x_test = vec.transform(x_test).toarray()\n",
    "# print(x_test)"
   ]
  },
  {
   "cell_type": "code",
   "execution_count": 1497,
   "id": "6bd65360-e377-431b-94fd-aa86c073160a",
   "metadata": {},
   "outputs": [
    {
     "data": {
      "text/plain": [
       "MultinomialNB()"
      ]
     },
     "execution_count": 1497,
     "metadata": {},
     "output_type": "execute_result"
    }
   ],
   "source": [
    "NB_model = MultinomialNB()\n",
    "NB_model.fit(x, y)"
   ]
  },
  {
   "cell_type": "code",
   "execution_count": 1498,
   "id": "b2e1f78a-3f2d-45d1-a874-f453340dc620",
   "metadata": {},
   "outputs": [],
   "source": [
    "# FOr data train too\n",
    "# train_pred = NB_model.predict(x)\n",
    "\n",
    "# train_pred"
   ]
  },
  {
   "cell_type": "code",
   "execution_count": 1499,
   "id": "ccb5f828-7133-4c41-bcc0-4a0d1512a3c4",
   "metadata": {},
   "outputs": [],
   "source": [
    "#  to see  training data differnce\n",
    "# cf_train_matrix = confusion_matrix(y,train_pred)\n",
    "# cf_train_matrix\n",
    "# print(cf_train_matrix)\n",
    "# print(classification_report(y,train_pred))\n",
    "# print(accuracy_score(y,train_pred))"
   ]
  },
  {
   "cell_type": "code",
   "execution_count": 1500,
   "id": "adfa8bdf-e3eb-4535-9eb4-aedbf9c58218",
   "metadata": {},
   "outputs": [
    {
     "data": {
      "text/plain": [
       "array([ 0,  1,  0,  1,  0,  0,  1,  0, -1,  0,  0,  1,  0,  0,  0,  0, -1,\n",
       "        0,  0,  0,  0,  0,  1,  1,  1,  1,  1,  0,  1,  0,  0,  0,  1,  0,\n",
       "        1,  0,  0,  0,  0,  0,  1,  0,  1,  0,  0,  1,  0,  1,  0,  0, -1,\n",
       "        1,  0,  0,  0,  0,  1,  1,  0,  0,  1, -1,  0,  0,  0,  1,  1,  0,\n",
       "        1, -1,  0,  0,  0,  1,  0,  0,  0,  0,  1, -1,  0, -1,  0, -1,  1,\n",
       "        0,  0,  0,  0,  0,  0,  0,  1, -1,  0,  0,  0,  0,  0,  0,  0,  0,\n",
       "        0,  1,  0,  0,  0,  0,  0,  1,  1,  1,  1,  0,  0,  1, -1, -1,  0,\n",
       "        0,  0,  1, -1,  1,  0,  0,  0,  0,  1,  1,  0, -1,  0,  0,  0,  1,\n",
       "        0,  0,  0,  0,  0,  0,  0, -1,  1, -1,  1,  0,  0,  0,  1,  0,  1,\n",
       "        1,  0,  0,  0,  0,  0,  0, -1,  0,  0,  1,  0, -1,  1,  1,  0, -1,\n",
       "        0,  0, -1,  0,  0,  0,  0,  0, -1,  0,  0,  0,  0,  1,  1,  1, -1,\n",
       "        0,  0,  0,  1,  0,  0,  1, -1,  1,  0,  0,  0,  1,  0,  1, -1,  1,\n",
       "        0,  0,  0,  0,  0,  1,  0,  1,  0,  0,  0,  1,  0,  0,  1,  1,  0,\n",
       "        0, -1,  0,  0,  1,  1,  0,  1,  0,  1,  1,  0,  1, -1,  0,  0,  1,\n",
       "       -1,  1,  1,  0,  0,  0,  1,  0,  1,  1,  0,  0,  1,  1,  0,  0,  0,\n",
       "       -1,  0,  0,  0,  0,  0,  0,  0,  1,  0,  0,  0,  1,  0,  0,  0,  1,\n",
       "        1,  0,  0,  1,  0,  0,  0,  1, -1, -1,  0,  0,  0,  0,  1,  0,  1,\n",
       "        1,  0,  1,  0,  0,  0,  1,  0,  0,  0,  1,  0,  0,  0, -1,  0,  0,\n",
       "        0,  0,  0,  0,  0,  0,  1,  1,  0,  0,  0,  0, -1,  0,  1,  0,  0,\n",
       "        0,  0, -1,  0,  0,  0,  0,  0,  0,  1,  1,  0,  1,  1,  0,  0,  0,\n",
       "        0,  0,  0,  0, -1,  1,  1,  0,  0,  0,  0,  0,  0,  0,  0,  1,  0,\n",
       "        0, -1,  1, -1,  1,  1,  0,  0,  1,  0,  0,  0,  0, -1,  1,  1,  0,\n",
       "        0,  1,  0,  0,  0,  1,  0,  1,  0,  0, -1,  1,  0,  0,  1,  0,  1,\n",
       "        0,  0, -1,  0,  1, -1,  0,  0,  1,  0,  0,  0,  0,  0,  1,  0, -1,\n",
       "        1,  0,  1,  0,  0,  1,  0,  0,  0,  1,  0,  1,  0,  0, -1, -1,  1,\n",
       "        1,  0,  0,  0,  0,  1,  0,  0,  0,  1,  0,  0,  1,  0,  0,  0, -1,\n",
       "        1,  0,  0,  0,  1, -1,  1,  0,  0, -1,  0,  1,  0,  0,  0,  1,  0,\n",
       "        0,  0,  1,  0,  1, -1])"
      ]
     },
     "execution_count": 1500,
     "metadata": {},
     "output_type": "execute_result"
    }
   ],
   "source": [
    "y_pred = NB_model.predict(x_test)\n",
    "y_pred"
   ]
  },
  {
   "cell_type": "code",
   "execution_count": 1501,
   "id": "c14cefc9-222a-462b-809f-1574a667acd0",
   "metadata": {},
   "outputs": [
    {
     "name": "stdout",
     "output_type": "stream",
     "text": [
      "Naive Bayes Matrix , accuracy and f1-score\n",
      "\n",
      "\n",
      "NB confussion matrix : \n",
      " [[ 38  20  10]\n",
      " [  3 245  16]\n",
      " [  5  26 102]]\n",
      "              precision    recall  f1-score   support\n",
      "\n",
      "          -1       0.83      0.56      0.67        68\n",
      "           0       0.84      0.93      0.88       264\n",
      "           1       0.80      0.77      0.78       133\n",
      "\n",
      "    accuracy                           0.83       465\n",
      "   macro avg       0.82      0.75      0.78       465\n",
      "weighted avg       0.83      0.83      0.82       465\n",
      "\n",
      "0.8279569892473119\n"
     ]
    }
   ],
   "source": [
    "cf_matrix = confusion_matrix(y_test,y_pred)\n",
    "# cf_matrix\n",
    "print(\"Naive Bayes Matrix , accuracy and f1-score\\n\\n\")\n",
    "print(\"NB confussion matrix : \\n\",cf_matrix)\n",
    "\n",
    "print(classification_report(y_test,y_pred))\n",
    "print(accuracy_score(y_test,y_pred))\n"
   ]
  },
  {
   "cell_type": "code",
   "execution_count": 1502,
   "id": "ecb43e55-3372-43ae-aa45-fdc70e4fac04",
   "metadata": {},
   "outputs": [
    {
     "data": {
      "image/png": "[encoded data removed]",
      "text/plain": [
       "<Figure size 432x288 with 2 Axes>"
      ]
     },
     "metadata": {
      "needs_background": "light"
     },
     "output_type": "display_data"
    }
   ],
   "source": [
    "\n",
    "\n",
    "ax = sns.heatmap(cf_matrix, annot=True, cmap='Blues')\n",
    "\n",
    "ax.set_title('Naive Bayes Confusion Matrix\\n\\n');\n",
    "ax.set_xlabel('\\nPredicted Values')\n",
    "ax.set_ylabel('Actual Values ');\n",
    "\n",
    "## Ticket labels - List must be in alphabetical order\n",
    "ax.xaxis.set_ticklabels(['-1','0','1'])\n",
    "ax.yaxis.set_ticklabels(['-1','0','1'])\n",
    "\n",
    "## Display the visualization of the Confusion Matrix.\n",
    "plt.show()"
   ]
  },
  {
   "cell_type": "code",
   "execution_count": 1503,
   "id": "f3def6c6-b5a0-4f2d-a820-5bed45bbbef4",
   "metadata": {},
   "outputs": [
    {
     "name": "stdout",
     "output_type": "stream",
     "text": [
      "\n",
      "\n",
      "Naive Bayes Matrix , accuracy and f1-score\n",
      "\n",
      "\n",
      "NB confussion matrix : \n",
      " [[ 38  20  10]\n",
      " [  3 245  16]\n",
      " [  5  26 102]]\n",
      "              precision    recall  f1-score   support\n",
      "\n",
      "          -1       0.83      0.56      0.67        68\n",
      "           0       0.84      0.93      0.88       264\n",
      "           1       0.80      0.77      0.78       133\n",
      "\n",
      "    accuracy                           0.83       465\n",
      "   macro avg       0.82      0.75      0.78       465\n",
      "weighted avg       0.83      0.83      0.82       465\n",
      "\n",
      "0.8279569892473119\n",
      "\n",
      "\n",
      "\n",
      "\n"
     ]
    },
    {
     "data": {
      "image/png": "[encoded data removed]",
      "text/plain": [
       "<Figure size 432x288 with 2 Axes>"
      ]
     },
     "metadata": {
      "needs_background": "light"
     },
     "output_type": "display_data"
    }
   ],
   "source": [
    "def NB_training_testing():\n",
    "    data=pd.DataFrame(reviews_list_polarity())\n",
    "    #spiting data for train data\n",
    "    x_train = data['reviews']\n",
    "    y_train = data['polarity']\n",
    "    x_train, x_test, y_train, y_test = train_test_split(x_train,y_train, stratify=y_train, test_size=0.25, random_state=42)\n",
    "    \n",
    "    # Vectorize text reviews to numbers\n",
    "    vec = CountVectorizer()\n",
    "    x_train = vec.fit_transform(x_train).toarray()\n",
    "    x_test = vec.transform(x_test).toarray()\n",
    "    # print(x_test)\n",
    "    #train model\n",
    "    NB_model = MultinomialNB()\n",
    "    NB_model.fit(x_train, y_train)\n",
    "    #prediction on test\n",
    "    y_pred = NB_model.predict(x_test)\n",
    "    # confusion matric and report and accurcy\n",
    "    print(\"\\n\")\n",
    "    NB_cf_matrix = confusion_matrix(y_test,y_pred)\n",
    "    # cf_matrix\n",
    "    print(\"Naive Bayes Matrix , accuracy and f1-score\\n\\n\")\n",
    "    print(\"NB confussion matrix : \\n\",NB_cf_matrix)\n",
    "\n",
    "    print(classification_report(y_test,y_pred))\n",
    "    print(accuracy_score(y_test,y_pred))\n",
    "    print(\"\\n\")\n",
    "    print(\"\\n\")\n",
    "    # NB_model.score(x_test, y_test)\n",
    "    #plot \n",
    "    \n",
    "    ax = sns.heatmap(NB_cf_matrix, annot=True, cmap='Blues')\n",
    "\n",
    "    ax.set_title('Naive Bayes Confusion Matrix\\n\\n');\n",
    "    ax.set_xlabel('\\nPredicted Values')\n",
    "    ax.set_ylabel('Actual Values ');\n",
    "\n",
    "    ## Ticket labels - List must be in alphabetical order\n",
    "    ax.xaxis.set_ticklabels(['-1','0','1'])\n",
    "    ax.yaxis.set_ticklabels(['-1','0','1'])\n",
    "\n",
    "    ## Display the visualization of the Confusion Matrix.\n",
    "    plt.show()\n",
    "\n",
    "NB_training_testing()"
   ]
  },
  {
   "cell_type": "code",
   "execution_count": 1504,
   "id": "7ef27015-e84b-409b-ad1f-1183f52e9a31",
   "metadata": {},
   "outputs": [],
   "source": [
    "# labels = ['True Neg','False nutral','False pos',\n",
    "#           'False Neg','True nutral','False pos',\n",
    "#           'False Neg','False nutral','True pos',\n",
    "#          ]\n",
    "# labels = np.asarray(labels).reshape(3,3)\n",
    "# sns.heatmap(cf_matrix, annot=labels, fmt='', cmap='Blues')"
   ]
  },
  {
   "cell_type": "code",
   "execution_count": 1505,
   "id": "dfc08a28-ca55-42a6-bf9f-b49ba85caf7a",
   "metadata": {},
   "outputs": [
    {
     "data": {
      "text/plain": [
       "0.8279569892473119"
      ]
     },
     "execution_count": 1505,
     "metadata": {},
     "output_type": "execute_result"
    }
   ],
   "source": [
    "NB_model.score(x_test, y_test)"
   ]
  },
  {
   "cell_type": "markdown",
   "id": "3b3649b2-1dd1-42e6-8532-b9bbbb0aa78c",
   "metadata": {
    "tags": []
   },
   "source": [
    "\n",
    "\n",
    "\n",
    "SVM Model Train and testing\n",
    "\n",
    "\n"
   ]
  },
  {
   "cell_type": "code",
   "execution_count": 1506,
   "id": "ea240bd4-8110-4d1c-9bd6-d532295c024b",
   "metadata": {},
   "outputs": [
    {
     "name": "stdout",
     "output_type": "stream",
     "text": [
      "SVM confusion Matrix , accuracy and f1-score\n",
      "\n",
      "\n",
      "SVM confusion Matrix : \n",
      " [[ 57  11   0]\n",
      " [  3 257   4]\n",
      " [  4  25 104]]\n",
      "              precision    recall  f1-score   support\n",
      "\n",
      "          -1       0.89      0.84      0.86        68\n",
      "           0       0.88      0.97      0.92       264\n",
      "           1       0.96      0.78      0.86       133\n",
      "\n",
      "    accuracy                           0.90       465\n",
      "   macro avg       0.91      0.86      0.88       465\n",
      "weighted avg       0.90      0.90      0.90       465\n",
      "\n",
      "0.8989247311827957\n"
     ]
    },
    {
     "data": {
      "image/png": "[encoded data removed]",
      "text/plain": [
       "<Figure size 432x288 with 2 Axes>"
      ]
     },
     "metadata": {
      "needs_background": "light"
     },
     "output_type": "display_data"
    }
   ],
   "source": [
    "def SVM_training_testing():\n",
    "    data=pd.DataFrame(reviews_list_polarity())\n",
    "    #spiting data for train data\n",
    "    x_train = data['reviews']\n",
    "    y_train = data['polarity']\n",
    "    x_train, x_test, y_train, y_test = train_test_split(x_train,y_train, stratify=y_train, test_size=0.25, random_state=42)\n",
    "    \n",
    "    # Vectorize text reviews to numbers\n",
    "    vec = CountVectorizer()\n",
    "    x_train = vec.fit_transform(x_train).toarray()\n",
    "    x_test = vec.transform(x_test).toarray()\n",
    "    # print(x_test)\n",
    "    #train model\n",
    "    svm_model = SVC(kernel='linear')       #kernal linear\n",
    "    svm_model.fit(x_train, y_train)\n",
    "    #prediction\n",
    "    svm_pred = svm_model.predict(x_test)\n",
    "    svm_cf_matrix = confusion_matrix(y_test,svm_pred)\n",
    "    # svm_cf_matrix\n",
    "    print(\"SVM confusion Matrix , accuracy and f1-score\\n\\n\")\n",
    "    print(\"SVM confusion Matrix : \\n\",svm_cf_matrix)\n",
    "\n",
    "    print(classification_report(y_test,svm_pred))\n",
    "    print(accuracy_score(y_test,svm_pred))\n",
    "    \n",
    "    # svm_model.score(x_test, y_test)\n",
    "    \n",
    "    ax = sns.heatmap(svm_cf_matrix, annot=True, cmap='Blues')\n",
    "\n",
    "    ax.set_title('Svm Confusion Matrix\\n\\n');\n",
    "    ax.set_xlabel('\\nPredicted Values')\n",
    "    ax.set_ylabel('Actual Values ');\n",
    "\n",
    "    ## Ticket labels - List must be in alphabetical order\n",
    "    ax.xaxis.set_ticklabels(['-1','0','1'])\n",
    "    ax.yaxis.set_ticklabels(['-1','0','1'])\n",
    "\n",
    "    ## Display the visualization of the Confusion Matrix.\n",
    "    plt.show()\n",
    "    \n",
    "SVM_training_testing()\n",
    "    "
   ]
  },
  {
   "cell_type": "code",
   "execution_count": 1507,
   "id": "b287e2a0-0832-4f4b-a3d8-5a19b1569fe0",
   "metadata": {},
   "outputs": [
    {
     "data": {
      "text/plain": [
       "SVC(kernel='linear')"
      ]
     },
     "execution_count": 1507,
     "metadata": {},
     "output_type": "execute_result"
    }
   ],
   "source": [
    "svm_model = SVC(kernel='linear')\n",
    "svm_model.fit(x, y)"
   ]
  },
  {
   "cell_type": "code",
   "execution_count": 1508,
   "id": "7dba10fb-4e4c-4344-a31c-f82755792ac5",
   "metadata": {},
   "outputs": [
    {
     "data": {
      "text/plain": [
       "array([ 0,  0,  0,  1,  0,  0,  0,  0,  1,  0,  0,  1,  0,  0,  0,  0, -1,\n",
       "        0,  1,  0,  0,  0,  1,  0,  0,  1,  1,  0,  1,  0,  0,  0,  1,  0,\n",
       "        0,  0,  0,  0,  0,  1,  1,  0,  1,  0,  0,  1,  0,  1, -1,  0,  0,\n",
       "        1,  0,  0,  0,  0, -1, -1,  0,  0,  1, -1,  0,  0,  0,  0,  1,  0,\n",
       "        1, -1,  0,  0,  0,  1,  0,  0,  0,  0,  1, -1,  0, -1,  0, -1,  1,\n",
       "        0,  0,  0,  0, -1,  0,  0,  0,  0,  0,  0,  0,  1,  0,  0,  0,  0,\n",
       "        0,  1,  0,  0,  0, -1,  0,  1,  0,  1,  1,  0,  0,  0,  0, -1,  0,\n",
       "        0,  0,  1, -1, -1,  0,  0,  0,  0,  1, -1,  0, -1,  0,  1,  0,  1,\n",
       "        0,  0,  0,  0,  0,  0,  0, -1,  1, -1, -1,  0,  0,  0,  1,  0,  1,\n",
       "        1,  0,  0,  0,  1,  0,  0, -1,  0,  0,  0,  0, -1,  1,  1,  0, -1,\n",
       "        0,  0,  0,  0,  0,  0,  0,  0, -1,  0,  0,  0,  0,  1,  1,  1,  0,\n",
       "        0,  0,  0, -1,  0, -1,  1, -1, -1, -1,  0,  0,  1,  0,  1, -1,  1,\n",
       "        0, -1,  0,  0, -1,  1,  0,  1,  0,  0,  0,  1,  0,  0,  1,  1,  0,\n",
       "        0, -1,  0,  0,  1,  1, -1,  1,  0,  0,  0,  0,  1, -1,  0,  0,  1,\n",
       "       -1,  1,  1,  0,  0,  0,  1,  0,  1,  1,  0,  0,  1,  1,  1,  0,  0,\n",
       "       -1,  0,  0,  0,  0,  0,  0,  0,  1,  0,  0,  0,  1,  0,  0,  0,  0,\n",
       "        1,  0,  0,  0,  0,  0,  0, -1, -1, -1,  0,  0,  0,  0,  0,  0,  1,\n",
       "        0,  0,  1,  0,  1,  0,  0,  0,  0, -1,  0,  0,  0,  0,  0,  0,  0,\n",
       "        0,  0,  0,  1,  0,  0,  0,  1,  0,  0,  0,  0, -1,  0,  1,  0, -1,\n",
       "        0,  0, -1,  0, -1, -1,  0,  0,  0,  0, -1,  0,  1,  1,  0,  1,  0,\n",
       "        0,  0,  0,  0, -1,  1,  1,  1,  0,  0,  0,  0,  0,  0,  0,  1,  0,\n",
       "        0, -1,  1, -1,  1,  1,  0, -1,  1,  0,  0,  0,  0, -1,  1,  1,  0,\n",
       "        0,  1,  0,  0,  0, -1,  0,  1,  0,  0, -1,  1,  0,  0,  1,  0,  1,\n",
       "        0,  0, -1,  0,  1, -1, -1,  1,  1,  0,  0,  0,  0,  1,  1,  0, -1,\n",
       "        0,  0,  1,  0,  0,  0,  0,  0,  0,  1,  0,  1,  0,  0, -1, -1,  1,\n",
       "        1,  0,  0,  0,  0,  0,  0,  1,  0,  1,  0,  0,  1, -1,  1,  0, -1,\n",
       "        0,  0,  0,  0, -1,  0,  1,  0,  0, -1,  0,  1,  0,  0,  0,  1,  0,\n",
       "        0,  0,  1,  0,  1, -1])"
      ]
     },
     "execution_count": 1508,
     "metadata": {},
     "output_type": "execute_result"
    }
   ],
   "source": [
    "\n",
    "svm_pred = svm_model.predict(x_test)\n",
    "svm_pred\n"
   ]
  },
  {
   "cell_type": "code",
   "execution_count": 1509,
   "id": "4e43a339-8f7c-4fad-a106-448a1f26cb48",
   "metadata": {},
   "outputs": [
    {
     "name": "stdout",
     "output_type": "stream",
     "text": [
      "SVM confusion Matrix , accuracy and f1-score\n",
      "\n",
      "\n",
      "SVM confusion Matrix : \n",
      " [[ 57  11   0]\n",
      " [  3 257   4]\n",
      " [  4  25 104]]\n",
      "              precision    recall  f1-score   support\n",
      "\n",
      "          -1       0.89      0.84      0.86        68\n",
      "           0       0.88      0.97      0.92       264\n",
      "           1       0.96      0.78      0.86       133\n",
      "\n",
      "    accuracy                           0.90       465\n",
      "   macro avg       0.91      0.86      0.88       465\n",
      "weighted avg       0.90      0.90      0.90       465\n",
      "\n",
      "0.8989247311827957\n"
     ]
    }
   ],
   "source": [
    "svm_cf_matrix = confusion_matrix(y_test,svm_pred)\n",
    "# cf_matrix\n",
    "print(\"SVM confusion Matrix , accuracy and f1-score\\n\\n\")\n",
    "print(\"SVM confusion Matrix : \\n\",svm_cf_matrix)\n",
    "\n",
    "print(classification_report(y_test,svm_pred))\n",
    "print(accuracy_score(y_test,svm_pred))"
   ]
  },
  {
   "cell_type": "code",
   "execution_count": 1510,
   "id": "b86581f4-7add-47d0-b0c0-1eba4e1fe91d",
   "metadata": {},
   "outputs": [
    {
     "data": {
      "text/plain": [
       "0.8989247311827957"
      ]
     },
     "execution_count": 1510,
     "metadata": {},
     "output_type": "execute_result"
    }
   ],
   "source": [
    "svm_model.score(x_test, y_test)"
   ]
  },
  {
   "cell_type": "code",
   "execution_count": 1511,
   "id": "f613a6ee-cd1e-4125-905c-20d65405fa7b",
   "metadata": {},
   "outputs": [
    {
     "data": {
      "image/png": "[encoded data removed]",
      "text/plain": [
       "<Figure size 432x288 with 2 Axes>"
      ]
     },
     "metadata": {
      "needs_background": "light"
     },
     "output_type": "display_data"
    }
   ],
   "source": [
    "ax = sns.heatmap(svm_cf_matrix, annot=True, cmap='Blues')\n",
    "\n",
    "ax.set_title('Svm Confusion Matrix\\n\\n');\n",
    "ax.set_xlabel('\\nPredicted Values')\n",
    "ax.set_ylabel('Actual Values ');\n",
    "\n",
    "## Ticket labels - List must be in alphabetical order\n",
    "ax.xaxis.set_ticklabels(['-1','0','1'])\n",
    "ax.yaxis.set_ticklabels(['-1','0','1'])\n",
    "\n",
    "## Display the visualization of the Confusion Matrix.\n",
    "plt.show()"
   ]
  },
  {
   "cell_type": "code",
   "execution_count": 1514,
   "id": "79200738-e48b-459e-8af4-22c17a2501d0",
   "metadata": {},
   "outputs": [],
   "source": [
    "# from skfeature.function.similarity_based import fisher_score\n",
    "# ranks  = fisher_score.fisher_score(x,y)\n",
    "# feat = pd.Series(ranks , data.columns[0:len(data.columns)-1])\n",
    "# feat.plot(kind = 'barh' ,color = 'teal')"
   ]
  },
  {
   "cell_type": "code",
   "execution_count": 1515,
   "id": "090b3c40-f773-4c0d-aed3-0bd4a3e01eee",
   "metadata": {},
   "outputs": [],
   "source": [
    "# data.columns[0:len(data.columns)-1]"
   ]
  },
  {
   "cell_type": "code",
   "execution_count": 1516,
   "id": "8731ff93-0c9b-483f-9ce7-bc61fdba4e09",
   "metadata": {},
   "outputs": [
    {
     "name": "stdout",
     "output_type": "stream",
     "text": [
      "SVM confusion Matrix , accuracy and f1-score\n",
      "\n",
      "\n",
      "SVM confusion Matrix : \n",
      " [[  5  63   0]\n",
      " [  0 264   0]\n",
      " [  0 127   6]]\n",
      "              precision    recall  f1-score   support\n",
      "\n",
      "          -1       1.00      0.07      0.14        68\n",
      "           0       0.58      1.00      0.74       264\n",
      "           1       1.00      0.05      0.09       133\n",
      "\n",
      "    accuracy                           0.59       465\n",
      "   macro avg       0.86      0.37      0.32       465\n",
      "weighted avg       0.76      0.59      0.46       465\n",
      "\n",
      "0.5913978494623656\n"
     ]
    },
    {
     "data": {
      "image/png": "[encoded data removed]",
      "text/plain": [
       "<Figure size 432x288 with 2 Axes>"
      ]
     },
     "metadata": {
      "needs_background": "light"
     },
     "output_type": "display_data"
    }
   ],
   "source": [
    "  #kernal polynomial\n",
    "def SVM_training_testing():\n",
    "    data=pd.DataFrame(reviews_list_polarity())\n",
    "    #spiting data for train data\n",
    "    x_train = data['reviews']\n",
    "    y_train = data['polarity']\n",
    "    x_train, x_test, y_train, y_test = train_test_split(x_train,y_train, stratify=y_train, test_size=0.25, random_state=42)\n",
    "    \n",
    "    # Vectorize text reviews to numbers\n",
    "    vec = CountVectorizer()\n",
    "    x_train = vec.fit_transform(x_train).toarray()\n",
    "    x_test = vec.transform(x_test).toarray()\n",
    "    # print(x_test)\n",
    "    #train model\n",
    "    svm_model = SVC(kernel='poly',degree =8)       #kernal polynomial\n",
    "    svm_model.fit(x_train, y_train)\n",
    "    #prediction\n",
    "    svm_pred = svm_model.predict(x_test)\n",
    "    svm_cf_matrix = confusion_matrix(y_test,svm_pred)\n",
    "    # svm_cf_matrix\n",
    "    print(\"SVM confusion Matrix , accuracy and f1-score\\n\\n\")\n",
    "    print(\"SVM confusion Matrix : \\n\",svm_cf_matrix)\n",
    "\n",
    "    print(classification_report(y_test,svm_pred))\n",
    "    print(accuracy_score(y_test,svm_pred))\n",
    "    \n",
    "    # svm_model.score(x_test, y_test)\n",
    "    \n",
    "    ax = sns.heatmap(svm_cf_matrix, annot=True, cmap='Blues')\n",
    "\n",
    "    ax.set_title('Svm Confusion Matrix\\n\\n');\n",
    "    ax.set_xlabel('\\nPredicted Values')\n",
    "    ax.set_ylabel('Actual Values ');\n",
    "\n",
    "    ## Ticket labels - List must be in alphabetical order\n",
    "    ax.xaxis.set_ticklabels(['-1','0','1'])\n",
    "    ax.yaxis.set_ticklabels(['-1','0','1'])\n",
    "\n",
    "    ## Display the visualization of the Confusion Matrix.\n",
    "    plt.show()\n",
    "    \n",
    "SVM_training_testing()\n",
    "    \n",
    "    "
   ]
  },
  {
   "cell_type": "code",
   "execution_count": 1517,
   "id": "9706d3cd-b258-44f7-b87b-0de8ae927ac7",
   "metadata": {},
   "outputs": [
    {
     "name": "stdout",
     "output_type": "stream",
     "text": [
      "SVM confusion Matrix , accuracy and f1-score\n",
      "\n",
      "\n",
      "SVM confusion Matrix : \n",
      " [[ 24  38   6]\n",
      " [  0 260   4]\n",
      " [  0  49  84]]\n",
      "              precision    recall  f1-score   support\n",
      "\n",
      "          -1       1.00      0.35      0.52        68\n",
      "           0       0.75      0.98      0.85       264\n",
      "           1       0.89      0.63      0.74       133\n",
      "\n",
      "    accuracy                           0.79       465\n",
      "   macro avg       0.88      0.66      0.70       465\n",
      "weighted avg       0.83      0.79      0.77       465\n",
      "\n",
      "0.7913978494623656\n"
     ]
    },
    {
     "data": {
      "image/png": "[encoded data removed]",
      "text/plain": [
       "<Figure size 432x288 with 2 Axes>"
      ]
     },
     "metadata": {
      "needs_background": "light"
     },
     "output_type": "display_data"
    }
   ],
   "source": [
    "def SVM_training_testing():\n",
    "    data=pd.DataFrame(reviews_list_polarity())\n",
    "    #spiting data for train data\n",
    "    x_train = data['reviews']\n",
    "    y_train = data['polarity']\n",
    "    x_train, x_test, y_train, y_test = train_test_split(x_train,y_train, stratify=y_train, test_size=0.25, random_state=42)\n",
    "    \n",
    "    # Vectorize text reviews to numbers\n",
    "    vec = CountVectorizer()\n",
    "    x_train = vec.fit_transform(x_train).toarray()\n",
    "    x_test = vec.transform(x_test).toarray()\n",
    "    # print(x_test)\n",
    "    #train model\n",
    "    svm_model = SVC(kernel='rbf')       #kernal Gaussian\n",
    "    svm_model.fit(x_train, y_train)\n",
    "    #prediction\n",
    "    svm_pred = svm_model.predict(x_test)\n",
    "    svm_cf_matrix = confusion_matrix(y_test,svm_pred)\n",
    "    # svm_cf_matrix\n",
    "    print(\"SVM confusion Matrix , accuracy and f1-score\\n\\n\")\n",
    "    print(\"SVM confusion Matrix : \\n\",svm_cf_matrix)\n",
    "\n",
    "    print(classification_report(y_test,svm_pred))\n",
    "    print(accuracy_score(y_test,svm_pred))\n",
    "    \n",
    "    # svm_model.score(x_test, y_test)\n",
    "    \n",
    "    ax = sns.heatmap(svm_cf_matrix, annot=True, cmap='Blues')\n",
    "\n",
    "    ax.set_title('Svm Confusion Matrix\\n\\n');\n",
    "    ax.set_xlabel('\\nPredicted Values')\n",
    "    ax.set_ylabel('Actual Values ');\n",
    "\n",
    "    ## Ticket labels - List must be in alphabetical order\n",
    "    ax.xaxis.set_ticklabels(['-1','0','1'])\n",
    "    ax.yaxis.set_ticklabels(['-1','0','1'])\n",
    "\n",
    "    ## Display the visualization of the Confusion Matrix.\n",
    "    plt.show()\n",
    "    \n",
    "SVM_training_testing()\n",
    "    "
   ]
  },
  {
   "cell_type": "code",
   "execution_count": 1518,
   "id": "c6469126-6385-409a-80e6-52ac851068ad",
   "metadata": {},
   "outputs": [
    {
     "name": "stdout",
     "output_type": "stream",
     "text": [
      "SVM confusion Matrix , accuracy and f1-score\n",
      "\n",
      "\n",
      "SVM confusion Matrix : \n",
      " [[ 34  32   2]\n",
      " [  2 261   1]\n",
      " [  1  43  89]]\n",
      "              precision    recall  f1-score   support\n",
      "\n",
      "          -1       0.92      0.50      0.65        68\n",
      "           0       0.78      0.99      0.87       264\n",
      "           1       0.97      0.67      0.79       133\n",
      "\n",
      "    accuracy                           0.83       465\n",
      "   macro avg       0.89      0.72      0.77       465\n",
      "weighted avg       0.85      0.83      0.81       465\n",
      "\n",
      "0.8258064516129032\n"
     ]
    },
    {
     "data": {
      "image/png": "[encoded data removed]",
      "text/plain": [
       "<Figure size 432x288 with 2 Axes>"
      ]
     },
     "metadata": {
      "needs_background": "light"
     },
     "output_type": "display_data"
    }
   ],
   "source": [
    "def SVM_training_testing():\n",
    "    data=pd.DataFrame(reviews_list_polarity())\n",
    "    #spiting data for train data\n",
    "    x_train = data['reviews']\n",
    "    y_train = data['polarity']\n",
    "    x_train, x_test, y_train, y_test = train_test_split(x_train,y_train, stratify=y_train, test_size=0.25, random_state=42)\n",
    "    \n",
    "    # Vectorize text reviews to numbers\n",
    "    vec = CountVectorizer()\n",
    "    x_train = vec.fit_transform(x_train).toarray()\n",
    "    x_test = vec.transform(x_test).toarray()\n",
    "    # print(x_test)\n",
    "    #train model\n",
    "    svm_model = SVC(kernel='sigmoid')       #kernal Gaussian\n",
    "    svm_model.fit(x_train, y_train)\n",
    "    #prediction\n",
    "    svm_pred = svm_model.predict(x_test)\n",
    "    svm_cf_matrix = confusion_matrix(y_test,svm_pred)\n",
    "    # svm_cf_matrix\n",
    "    print(\"SVM confusion Matrix , accuracy and f1-score\\n\\n\")\n",
    "    print(\"SVM confusion Matrix : \\n\",svm_cf_matrix)\n",
    "\n",
    "    print(classification_report(y_test,svm_pred))\n",
    "    print(accuracy_score(y_test,svm_pred))\n",
    "    \n",
    "    # svm_model.score(x_test, y_test)\n",
    "    \n",
    "    ax = sns.heatmap(svm_cf_matrix, annot=True, cmap='Blues')\n",
    "\n",
    "    ax.set_title('Svm Confusion Matrix\\n\\n');\n",
    "    ax.set_xlabel('\\nPredicted Values')\n",
    "    ax.set_ylabel('Actual Values ');\n",
    "\n",
    "    ## Ticket labels - List must be in alphabetical order\n",
    "    ax.xaxis.set_ticklabels(['-1','0','1'])\n",
    "    ax.yaxis.set_ticklabels(['-1','0','1'])\n",
    "\n",
    "    ## Display the visualization of the Confusion Matrix.\n",
    "    plt.show()\n",
    "    \n",
    "SVM_training_testing()"
   ]
  },
  {
   "cell_type": "code",
   "execution_count": 1519,
   "id": "2d2eae3a-681b-4671-a7d1-5d67427a1f85",
   "metadata": {},
   "outputs": [],
   "source": [
    "from sklearn import model_selection"
   ]
  },
  {
   "cell_type": "code",
   "execution_count": 1520,
   "id": "f805aef8-83aa-4bcf-ad7b-337860d16c26",
   "metadata": {},
   "outputs": [
    {
     "name": "stdout",
     "output_type": "stream",
     "text": [
      "Ensemble result 0.8333144912641316\n"
     ]
    }
   ],
   "source": [
    "seed = 7\n",
    "kfold = model_selection.KFold(n_splits=10, shuffle =True, random_state = seed)\n",
    "\n",
    "estimators = []\n",
    "model1 = svm_model\n",
    "estimators.append(('svm', model1))\n",
    "model2 = NB_model\n",
    "estimators.append(('cart', model2))\n",
    "\n",
    "ensemble = VotingClassifier(estimators , voting = 'hard')\n",
    "results = model_selection.cross_val_score(ensemble, x, y, cv=kfold)\n",
    "print(\"Ensemble result\",results.mean())"
   ]
  },
  {
   "cell_type": "code",
   "execution_count": null,
   "id": "3d5407cb-32b8-42a0-9143-3dead67a9e19",
   "metadata": {},
   "outputs": [],
   "source": []
  },
  {
   "cell_type": "code",
   "execution_count": null,
   "id": "4f730dc7-eb57-4b14-99e4-0aa4dd2d083a",
   "metadata": {},
   "outputs": [],
   "source": []
  },
  {
   "cell_type": "code",
   "execution_count": null,
   "id": "4f53fe11-0b6a-4b0d-b1a2-e6a8f19b8423",
   "metadata": {},
   "outputs": [],
   "source": []
  },
  {
   "cell_type": "code",
   "execution_count": null,
   "id": "8b467657-e2b5-45b7-a172-15ec8eed3c02",
   "metadata": {},
   "outputs": [],
   "source": []
  },
  {
   "cell_type": "code",
   "execution_count": null,
   "id": "6f31f738-e7cc-4ee5-8221-0ffc84e17bf4",
   "metadata": {},
   "outputs": [],
   "source": []
  }
 ],
 "metadata": {
  "kernelspec": {
   "display_name": "Python 3",
   "language": "python",
   "name": "python3"
  },
  "language_info": {
   "codemirror_mode": {
    "name": "ipython",
    "version": 3
   },
   "file_extension": ".py",
   "mimetype": "text/x-python",
   "name": "python",
   "nbconvert_exporter": "python",
   "pygments_lexer": "ipython3",
   "version": "3.8.3"
  }
 },
 "nbformat": 4,
 "nbformat_minor": 5
}
