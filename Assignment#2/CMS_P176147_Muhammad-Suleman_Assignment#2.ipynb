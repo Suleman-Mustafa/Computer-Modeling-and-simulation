{
 "cells": [
  {
   "cell_type": "code",
   "execution_count": 105,
   "id": "c04e564f",
   "metadata": {},
   "outputs": [],
   "source": [
    "from math import e\n",
    "import matplotlib.pyplot as plt\n",
    "import numpy as np"
   ]
  },
  {
   "cell_type": "code",
   "execution_count": 106,
   "id": "b9b6a4ce",
   "metadata": {},
   "outputs": [],
   "source": [
    "def analytical_solution(t):\n",
    "    initial_pop = 100\n",
    "    growth_rate = 0.10\n",
    "    population = initial_pop * pow(e ,growth_rate*t)\n",
    "    return population\n",
    "    "
   ]
  },
  {
   "cell_type": "code",
   "execution_count": 108,
   "id": "ec59b389",
   "metadata": {},
   "outputs": [
    {
     "data": {
      "text/plain": [
       "271.8281828459045"
      ]
     },
     "execution_count": 108,
     "metadata": {},
     "output_type": "execute_result"
    }
   ],
   "source": [
    "analytical_solution(10)"
   ]
  },
  {
   "cell_type": "code",
   "execution_count": 118,
   "id": "d2af1d57",
   "metadata": {},
   "outputs": [],
   "source": [
    "def eulerMethod(simulationLength , delta_t):\n",
    "    population = 100.0\n",
    "    growthRate = 0.10\n",
    "    numIteration = int(simulationLength/delta_t)\n",
    "    for i in range(0,numIteration):\n",
    "    \n",
    "        growth = growthRate*population\n",
    "        population = population+(growth*delta_t)\n",
    "        \n",
    "    return population \n",
    "    "
   ]
  },
  {
   "cell_type": "code",
   "execution_count": 123,
   "id": "64703c5e",
   "metadata": {},
   "outputs": [
    {
     "data": {
      "text/plain": [
       "180.0"
      ]
     },
     "execution_count": 123,
     "metadata": {},
     "output_type": "execute_result"
    }
   ],
   "source": [
    "eulerMethod(9,8)"
   ]
  },
  {
   "cell_type": "code",
   "execution_count": 121,
   "id": "2908c18c",
   "metadata": {},
   "outputs": [],
   "source": [
    "def error(t,delta_t):\n",
    "    result = analytical_solution(t) - eulerMethod(t, delta_t)\n",
    "    return result"
   ]
  },
  {
   "cell_type": "code",
   "execution_count": 124,
   "id": "7a64f7bf",
   "metadata": {},
   "outputs": [
    {
     "data": {
      "text/plain": [
       "91.82818284590451"
      ]
     },
     "execution_count": 124,
     "metadata": {},
     "output_type": "execute_result"
    }
   ],
   "source": [
    "error(10,8)"
   ]
  },
  {
   "cell_type": "code",
   "execution_count": 129,
   "id": "6111c9db",
   "metadata": {},
   "outputs": [],
   "source": [
    "\n",
    "def graphPlot(): \n",
    "    xpoints = np.array([error(10,1),error(10,2),error(10,3),error(10,4),error(10,5),error(10,6),error(10,7),error(10,8)])\n",
    "    ypoints = np.array([1, 2, 3,4,5, 6,7, 8])\n",
    "    \n",
    "    plt.plot(xpoints, ypoints)\n",
    "    plt.show()\n"
   ]
  },
  {
   "cell_type": "code",
   "execution_count": 130,
   "id": "92fe7491",
   "metadata": {},
   "outputs": [
    {
     "data": {
      "image/png": "[encoded data removed]",
      "text/plain": [
       "<Figure size 432x288 with 1 Axes>"
      ]
     },
     "metadata": {
      "needs_background": "light"
     },
     "output_type": "display_data"
    }
   ],
   "source": [
    "graphPlot()"
   ]
  },
  {
   "cell_type": "code",
   "execution_count": null,
   "id": "c2bb57d9",
   "metadata": {},
   "outputs": [],
   "source": []
  }
 ],
 "metadata": {
  "kernelspec": {
   "display_name": "Python 3",
   "language": "python",
   "name": "python3"
  },
  "language_info": {
   "codemirror_mode": {
    "name": "ipython",
    "version": 3
   },
   "file_extension": ".py",
   "mimetype": "text/x-python",
   "name": "python",
   "nbconvert_exporter": "python",
   "pygments_lexer": "ipython3",
   "version": "3.8.3"
  }
 },
 "nbformat": 4,
 "nbformat_minor": 5
}
